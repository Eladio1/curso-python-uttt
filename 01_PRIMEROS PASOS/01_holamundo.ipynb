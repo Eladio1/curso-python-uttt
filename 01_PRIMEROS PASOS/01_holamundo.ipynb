{
 "cells": [
  {
   "cell_type": "markdown",
   "metadata": {},
   "source": [
    "# PRIMEROS PASOS CON VISUAL STUDIO Y NOTEBOOKS"
   ]
  },
  {
   "cell_type": "markdown",
   "metadata": {},
   "source": [
    "## BIENVENIDOS A MI **HOLA MUNDO**"
   ]
  },
  {
   "cell_type": "code",
   "execution_count": 1,
   "metadata": {},
   "outputs": [
    {
     "name": "stdout",
     "output_type": "stream",
     "text": [
      "HOLA MUNDO PYTHON\n"
     ]
    }
   ],
   "source": [
    "print(\"HOLA MUNDO PYTHON\")"
   ]
  }
 ],
 "metadata": {
  "kernelspec": {
   "display_name": "CURSOPYTHONUTTT",
   "language": "python",
   "name": "python3"
  },
  "language_info": {
   "codemirror_mode": {
    "name": "ipython",
    "version": 3
   },
   "file_extension": ".py",
   "mimetype": "text/x-python",
   "name": "python",
   "nbconvert_exporter": "python",
   "pygments_lexer": "ipython3",
   "version": "3.12.4"
  }
 },
 "nbformat": 4,
 "nbformat_minor": 2
}
