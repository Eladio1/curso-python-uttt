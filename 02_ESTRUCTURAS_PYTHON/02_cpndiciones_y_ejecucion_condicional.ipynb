{
 "cells": [
  {
   "cell_type": "code",
   "execution_count": null,
   "metadata": {},
   "outputs": [],
   "source": []
  },
  {
   "cell_type": "markdown",
   "metadata": {},
   "source": [
    "## condiciones y ejecucion copndicionales"
   ]
  },
  {
   "cell_type": "markdown",
   "metadata": {},
   "source": [
    "## Ejercicio 1, condicinal simple (IF)"
   ]
  },
  {
   "cell_type": "code",
   "execution_count": null,
   "metadata": {},
   "outputs": [],
   "source": [
    "numero1=10\n",
    "numero2=20\n",
    "if numero1<numero2:\n",
    "    print(\"El numero\", numero1, \"es mayor a\", numero2)\n",
    "print(\"fin del programa\")\n",
    "\n",
    "\n",
    "\n",
    "\n"
   ]
  },
  {
   "cell_type": "code",
   "execution_count": null,
   "metadata": {},
   "outputs": [],
   "source": [
    "numero1=input(\"Introduce el primer numero\")\n",
    "numero1=float(numero1)\n",
    "numero1=float(input(\"introduce el segundo numero\"))\n",
    "\n",
    "if numero1>numero2:\n",
    "    print(f\"El numero {numero1} es mayor que el numero {numero2}\")\n",
    "\n",
    "              "
   ]
  }
 ],
 "metadata": {
  "kernelspec": {
   "display_name": "CURSOPYTHONUTTT",
   "language": "python",
   "name": "python3"
  },
  "language_info": {
   "name": "python",
   "version": "3.12.5"
  }
 },
 "nbformat": 4,
 "nbformat_minor": 2
}
